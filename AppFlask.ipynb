{
  "cells": [
    {
      "cell_type": "markdown",
      "metadata": {
        "id": "view-in-github",
        "colab_type": "text"
      },
      "source": [
        "<a href=\"https://colab.research.google.com/github/Baldros/WebAplicattions-and-Solutions/blob/main/AppFlask.ipynb\" target=\"_parent\"><img src=\"https://colab.research.google.com/assets/colab-badge.svg\" alt=\"Open In Colab\"/></a>"
      ]
    },
    {
      "cell_type": "markdown",
      "id": "346fe5ed-1dfa-443c-b725-64f12fb3dc47",
      "metadata": {
        "id": "346fe5ed-1dfa-443c-b725-64f12fb3dc47"
      },
      "source": [
        "# Construindo Aplicação Web utilizando Flask:\n",
        "\n",
        "    O objetivo aqui é rescontruir o livro Neural Networks and\n",
        "    Deep Learning do Michael Nielsen em português.\n",
        "\n",
        "    O livro disponibilizado pelo autor está em inglês e\n",
        "    não que isso seja um problema, mas o desafio de fazer\n",
        "    a implementação web com o Flask me chamou a atenção."
      ]
    },
    {
      "cell_type": "markdown",
      "id": "b675dcce-487c-4379-add7-2dfad62b410e",
      "metadata": {
        "id": "b675dcce-487c-4379-add7-2dfad62b410e"
      },
      "source": [
        "# Importando os dados:\n",
        "\n",
        "    O livro está todo escrito em HTML, então a ideia aqui é lidar\n",
        "    com ele, não tratando string pra extrair a informação, mas sim\n",
        "    extruturando uma página web. E para issoprecisamos dos HTML que\n",
        "    extruturam a página."
      ]
    },
    {
      "cell_type": "code",
      "execution_count": null,
      "id": "8cd8d70f-ba9b-4396-ae2d-981fdfd02a68",
      "metadata": {
        "id": "8cd8d70f-ba9b-4396-ae2d-981fdfd02a68"
      },
      "outputs": [],
      "source": [
        "# Dependencias utilizadas:\n",
        "import os\n",
        "import json"
      ]
    },
    {
      "cell_type": "code",
      "execution_count": null,
      "id": "4c59eedb-b6df-4e09-9f56-e2639ffb4a21",
      "metadata": {
        "colab": {
          "base_uri": "https://localhost:8080/"
        },
        "id": "4c59eedb-b6df-4e09-9f56-e2639ffb4a21",
        "outputId": "9a1ec175-6d91-4a3e-a88d-e994de275761"
      },
      "outputs": [
        {
          "output_type": "stream",
          "name": "stdout",
          "text": [
            "Diretório templates criado com sucesso!\n"
          ]
        }
      ],
      "source": [
        "# Construindo a pasta de Templates:\n",
        "pasta = 'templates'\n",
        "\n",
        "# Verifica se o diretório existe\n",
        "if not os.path.exists(pasta):\n",
        "    # Cria o diretório se não existir\n",
        "    os.makedirs(pasta)\n",
        "    print(f'Diretório {pasta} criado com sucesso!')\n",
        "else:\n",
        "    print(f'O diretório {pasta} já existe.')"
      ]
    },
    {
      "cell_type": "code",
      "execution_count": null,
      "id": "ef3f9205-d949-4c7b-82e5-5925c644d3ff",
      "metadata": {
        "colab": {
          "base_uri": "https://localhost:8080/"
        },
        "id": "ef3f9205-d949-4c7b-82e5-5925c644d3ff",
        "outputId": "f4b21210-90ee-4156-ac9c-34297a0ac15b"
      },
      "outputs": [
        {
          "output_type": "stream",
          "name": "stdout",
          "text": [
            "--2024-03-04 15:21:10--  https://github.com/VniciusMiranda/Redes-Neurais-e-Deep-Learning/blob/master/index.html\n",
            "Resolving github.com (github.com)... 140.82.113.3\n",
            "Connecting to github.com (github.com)|140.82.113.3|:443... connected.\n",
            "HTTP request sent, awaiting response... 200 OK\n",
            "Length: 129967 (127K) [text/plain]\n",
            "Saving to: ‘index.html’\n",
            "\n",
            "index.html          100%[===================>] 126.92K  --.-KB/s    in 0.006s  \n",
            "\n",
            "2024-03-04 15:21:10 (22.5 MB/s) - ‘index.html’ saved [129967/129967]\n",
            "\n",
            "--2024-03-04 15:21:10--  https://github.com/VniciusMiranda/Redes-Neurais-e-Deep-Learning/blob/master/chap1.html\n",
            "Resolving github.com (github.com)... 140.82.112.3\n",
            "Connecting to github.com (github.com)|140.82.112.3|:443... connected.\n",
            "HTTP request sent, awaiting response... 200 OK\n",
            "Length: 1167701 (1.1M) [text/plain]\n",
            "Saving to: ‘chap1.html’\n",
            "\n",
            "chap1.html          100%[===================>]   1.11M  --.-KB/s    in 0.05s   \n",
            "\n",
            "2024-03-04 15:21:11 (20.4 MB/s) - ‘chap1.html’ saved [1167701/1167701]\n",
            "\n",
            "--2024-03-04 15:21:11--  https://github.com/VniciusMiranda/Redes-Neurais-e-Deep-Learning/blob/master/chap2.html\n",
            "Resolving github.com (github.com)... 140.82.112.4\n",
            "Connecting to github.com (github.com)|140.82.112.4|:443... connected.\n",
            "HTTP request sent, awaiting response... 200 OK\n",
            "Length: 488520 (477K) [text/plain]\n",
            "Saving to: ‘chap2.html’\n",
            "\n",
            "chap2.html          100%[===================>] 477.07K  --.-KB/s    in 0.02s   \n",
            "\n",
            "2024-03-04 15:21:11 (27.2 MB/s) - ‘chap2.html’ saved [488520/488520]\n",
            "\n",
            "--2024-03-04 15:21:11--  https://github.com/VniciusMiranda/Redes-Neurais-e-Deep-Learning/blob/master/chap3.html\n",
            "Resolving github.com (github.com)... 140.82.113.3\n",
            "Connecting to github.com (github.com)|140.82.113.3|:443... connected.\n",
            "HTTP request sent, awaiting response... 200 OK\n",
            "Length: 1768836 (1.7M) [text/plain]\n",
            "Saving to: ‘chap3.html’\n",
            "\n",
            "chap3.html          100%[===================>]   1.69M  --.-KB/s    in 0.05s   \n",
            "\n",
            "2024-03-04 15:21:12 (35.5 MB/s) - ‘chap3.html’ saved [1768836/1768836]\n",
            "\n",
            "--2024-03-04 15:21:12--  https://github.com/VniciusMiranda/Redes-Neurais-e-Deep-Learning/blob/master/chap4.html\n",
            "Resolving github.com (github.com)... 140.82.113.4\n",
            "Connecting to github.com (github.com)|140.82.113.4|:443... connected.\n",
            "HTTP request sent, awaiting response... 200 OK\n",
            "Length: 319993 (312K) [text/plain]\n",
            "Saving to: ‘chap4.html’\n",
            "\n",
            "chap4.html          100%[===================>] 312.49K  --.-KB/s    in 0.02s   \n",
            "\n",
            "2024-03-04 15:21:13 (15.7 MB/s) - ‘chap4.html’ saved [319993/319993]\n",
            "\n",
            "--2024-03-04 15:21:13--  https://github.com/VniciusMiranda/Redes-Neurais-e-Deep-Learning/blob/master/chap5.html\n",
            "Resolving github.com (github.com)... 140.82.113.3\n",
            "Connecting to github.com (github.com)|140.82.113.3|:443... connected.\n",
            "HTTP request sent, awaiting response... 200 OK\n",
            "Length: 316675 (309K) [text/plain]\n",
            "Saving to: ‘chap5.html’\n",
            "\n",
            "chap5.html          100%[===================>] 309.25K  --.-KB/s    in 0.01s   \n",
            "\n",
            "2024-03-04 15:21:13 (23.4 MB/s) - ‘chap5.html’ saved [316675/316675]\n",
            "\n",
            "--2024-03-04 15:21:13--  https://github.com/VniciusMiranda/Redes-Neurais-e-Deep-Learning/blob/master/chap6.html\n",
            "Resolving github.com (github.com)... 140.82.114.4\n",
            "Connecting to github.com (github.com)|140.82.114.4|:443... connected.\n",
            "HTTP request sent, awaiting response... 200 OK\n",
            "Length: 1909868 (1.8M) [text/plain]\n",
            "Saving to: ‘chap6.html’\n",
            "\n",
            "chap6.html          100%[===================>]   1.82M  --.-KB/s    in 0.06s   \n",
            "\n",
            "2024-03-04 15:21:14 (32.1 MB/s) - ‘chap6.html’ saved [1909868/1909868]\n",
            "\n"
          ]
        }
      ],
      "source": [
        "# Baixando os arquivos:\n",
        "!wget -O index.html https://github.com/VniciusMiranda/Redes-Neurais-e-Deep-Learning/blob/master/index.html\n",
        "!wget -O chap1.html https://github.com/VniciusMiranda/Redes-Neurais-e-Deep-Learning/blob/master/chap1.html\n",
        "!wget -O chap2.html https://github.com/VniciusMiranda/Redes-Neurais-e-Deep-Learning/blob/master/chap2.html\n",
        "!wget -O chap3.html https://github.com/VniciusMiranda/Redes-Neurais-e-Deep-Learning/blob/master/chap3.html\n",
        "!wget -O chap4.html https://github.com/VniciusMiranda/Redes-Neurais-e-Deep-Learning/blob/master/chap4.html\n",
        "!wget -O chap5.html https://github.com/VniciusMiranda/Redes-Neurais-e-Deep-Learning/blob/master/chap5.html\n",
        "!wget -O chap6.html https://github.com/VniciusMiranda/Redes-Neurais-e-Deep-Learning/blob/master/chap6.html"
      ]
    },
    {
      "cell_type": "markdown",
      "source": [
        "**Tratando os dados baixados**\n",
        "\n",
        "    Esse tipo de importação trás muita coisa além do HTML.\n",
        "    Estamos focados no HTML aqui, então é necessário fazer\n",
        "    um tratamento dos arquivos de modo a se extrair apenas\n",
        "    o HTML da pagina. A boa estruturação e organização\n",
        "    da página depende disso."
      ],
      "metadata": {
        "id": "G-oj4JmURe2B"
      },
      "id": "G-oj4JmURe2B"
    },
    {
      "cell_type": "code",
      "execution_count": null,
      "id": "9324b019-5e05-4de5-9de8-2ef4c0bb90bb",
      "metadata": {
        "id": "9324b019-5e05-4de5-9de8-2ef4c0bb90bb"
      },
      "outputs": [],
      "source": [
        "# Lista de arquivos para loop:\n",
        "lista_arquivos= ['index.html','chap1.html','chap2.html','chap3.html',\n",
        "                 'chap4.html','chap5.html','chap6.html']\n",
        "\n",
        "# Movendo os arquivos para o diretório de destinos\n",
        "for arq in lista_arquivos:\n",
        "    diretorio_destino = os.path.join(pasta, arq)\n",
        "    os.replace(arq, diretorio_destino)\n",
        "\n",
        "    try:\n",
        "        with open(diretorio_destino, 'r', encoding='utf-8') as arquivo_html:\n",
        "            text_raw = arquivo_html.read()\n",
        "\n",
        "        # Continue com o processamento do arquivo, se necessário\n",
        "        txt_json = json.loads(text_raw)\n",
        "        text_final = ''.join(txt_json['payload']['blob']['rawLines'])\n",
        "\n",
        "        arq_txt = diretorio_destino.replace(\".html\", \".txt\")\n",
        "        with open(arq_txt, 'w',encoding='utf-8') as arq:\n",
        "            arq.write(text_final)\n",
        "\n",
        "        os.remove(diretorio_destino)\n",
        "\n",
        "    except UnicodeDecodeError as e:\n",
        "        print(f\"Erro de decodificação Unicode: {e}\")\n",
        "        # Lide com o erro conforme necessário"
      ]
    },
    {
      "cell_type": "markdown",
      "id": "d94dd6f8-38be-459e-9145-0ce269706961",
      "metadata": {
        "id": "d94dd6f8-38be-459e-9145-0ce269706961"
      },
      "source": [
        "# Construindo a Aplicação:\n",
        "\n",
        "**importante**\n",
        "\n",
        "    Roda a celula das importações, roda a celula instanciando\n",
        "    a página com a implementação do Flask, só dai então clique\n",
        "    no link indicado!\n",
        "\n",
        "    Por ser um ambiente em nuvem, o Colab tem suas peculiaridades\n",
        "    e uma dessas peculiaridades é a questão de Portas Proxy."
      ]
    },
    {
      "cell_type": "code",
      "execution_count": null,
      "id": "fe719476-32bf-44dd-ba31-86d1dccd43fb",
      "metadata": {
        "colab": {
          "base_uri": "https://localhost:8080/",
          "height": 52
        },
        "id": "fe719476-32bf-44dd-ba31-86d1dccd43fb",
        "outputId": "f2e70516-8558-4ae1-9644-d5e19a5b2ff6"
      },
      "outputs": [
        {
          "output_type": "stream",
          "name": "stdout",
          "text": [
            "Click no link abaixo para acessar o livro:\n",
            " https://jjkgr1u4duo-496ff2e9c6d22116-5000-colab.googleusercontent.com/\n"
          ]
        }
      ],
      "source": [
        "# Construção da Página:\n",
        "from flask import Flask,render_template\n",
        "\n",
        "# Implementação externa:\n",
        "from google.colab.output import eval_js\n",
        "link = eval_js('google.colab.kernel.proxyPort(5000)')\n",
        "print(f'Click no link abaixo para acessar o livro:\\n',link)"
      ]
    },
    {
      "cell_type": "code",
      "execution_count": null,
      "id": "ea5ca612-2db9-404e-997f-22a4f73a6262",
      "metadata": {
        "colab": {
          "base_uri": "https://localhost:8080/"
        },
        "id": "ea5ca612-2db9-404e-997f-22a4f73a6262",
        "outputId": "b731b370-17f6-4292-cf42-daa50a638a4a"
      },
      "outputs": [
        {
          "output_type": "stream",
          "name": "stdout",
          "text": [
            " * Serving Flask app '__main__'\n",
            " * Debug mode: on\n"
          ]
        },
        {
          "output_type": "stream",
          "name": "stderr",
          "text": [
            "INFO:werkzeug:\u001b[31m\u001b[1mWARNING: This is a development server. Do not use it in a production deployment. Use a production WSGI server instead.\u001b[0m\n",
            " * Running on all addresses (0.0.0.0)\n",
            " * Running on http://127.0.0.1:5000\n",
            " * Running on http://172.28.0.12:5000\n",
            "INFO:werkzeug:\u001b[33mPress CTRL+C to quit\u001b[0m\n"
          ]
        }
      ],
      "source": [
        "# Instanciando a API:\n",
        "app = Flask(__name__, template_folder='templates')\n",
        "\n",
        "\n",
        "@app.route('/')\n",
        "def homepage():\n",
        "  return render_template('index.txt')\n",
        "\n",
        "@app.route('/capitulo1')\n",
        "def pagcap1():\n",
        "  return render_template('chap1.txt', capitulo='Capítulo 1')\n",
        "\n",
        "@app.route('/capitulo2')\n",
        "def pagcap2():\n",
        "  return render_template('chap2.txt', capitulo='Capítulo 2')\n",
        "\n",
        "@app.route('/capitulo3')\n",
        "def pagcap3():\n",
        "  return render_template('chap3.txt', capitulo='Capítulo 3')\n",
        "\n",
        "@app.route('/capitulo4')\n",
        "def pagcap4():\n",
        "  return render_template('chap4.txt', capitulo='Capítulo 4')\n",
        "\n",
        "@app.route('/capitulo5')\n",
        "def pagcap5():\n",
        "  return render_template('chap5.txt', capitulo='Capítulo 5')\n",
        "\n",
        "@app.route('/capitulo6')\n",
        "def pagcap6():\n",
        "  return render_template('chap6.txt', capitulo='Capítulo 6')\n",
        "\n",
        "if __name__ == '__main__':\n",
        "    # Rodar o aplicativo em modo de desenvolvimento\n",
        "    app.run(host='0.0.0.0', debug=True, use_reloader=False)"
      ]
    },
    {
      "cell_type": "markdown",
      "source": [
        "Nota:\n",
        "\n",
        "    Se você rodar isso no seu computador, é só clicar no proprio\n",
        "    link no primeiro link http: que você já vai ter acesso a sua\n",
        "    pagina. Eu particularmente acho o Flask uma solução bastante\n",
        "    interessante e útil, não só para desenvolvimento web."
      ],
      "metadata": {
        "id": "ZsmPUoVG-ghO"
      },
      "id": "ZsmPUoVG-ghO"
    }
  ],
  "metadata": {
    "kernelspec": {
      "display_name": "Python 3 (ipykernel)",
      "language": "python",
      "name": "python3"
    },
    "language_info": {
      "codemirror_mode": {
        "name": "ipython",
        "version": 3
      },
      "file_extension": ".py",
      "mimetype": "text/x-python",
      "name": "python",
      "nbconvert_exporter": "python",
      "pygments_lexer": "ipython3",
      "version": "3.9.18"
    },
    "colab": {
      "provenance": [],
      "include_colab_link": true
    }
  },
  "nbformat": 4,
  "nbformat_minor": 5
}