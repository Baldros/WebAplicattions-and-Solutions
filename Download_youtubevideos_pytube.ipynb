{
  "cells": [
    {
      "cell_type": "markdown",
      "metadata": {
        "id": "view-in-github",
        "colab_type": "text"
      },
      "source": [
        "<a href=\"https://colab.research.google.com/github/Baldros/WebAplicattions-and-Solutions/blob/main/Download_youtubevideos_pytube.ipynb\" target=\"_parent\"><img src=\"https://colab.research.google.com/assets/colab-badge.svg\" alt=\"Open In Colab\"/></a>"
      ]
    },
    {
      "cell_type": "markdown",
      "metadata": {
        "id": "6wh-rLBd6pXJ"
      },
      "source": [
        " # Intalação da Biblioteca\n",
        "\n",
        "\n",
        "\n",
        "```\n",
        "Devido ao funcionamento do ambiente do google colab,\n",
        "para algumas bibliotecas, é necessário sempre instala-la\n",
        "para só então importa-las.\n",
        "```\n",
        "\n"
      ]
    },
    {
      "cell_type": "code",
      "execution_count": null,
      "metadata": {
        "colab": {
          "base_uri": "https://localhost:8080/"
        },
        "id": "A3EgXHV81JyV",
        "outputId": "71bb491c-96ff-4296-c879-410736b81bd6"
      },
      "outputs": [
        {
          "name": "stdout",
          "output_type": "stream",
          "text": [
            "Collecting pytube\n",
            "  Downloading pytube-15.0.0-py3-none-any.whl.metadata (5.0 kB)\n",
            "Downloading pytube-15.0.0-py3-none-any.whl (57 kB)\n",
            "\u001b[?25l   \u001b[90m━━━━━━━━━━━━━━━━━━━━━━━━━━━━━━━━━━━━━━━━\u001b[0m \u001b[32m0.0/57.6 kB\u001b[0m \u001b[31m?\u001b[0m eta \u001b[36m-:--:--\u001b[0m\r\u001b[2K   \u001b[90m━━━━━━━━━━━━━━━━━━━━━━━━━━━━━━━━━━━━━━━━\u001b[0m \u001b[32m57.6/57.6 kB\u001b[0m \u001b[31m2.5 MB/s\u001b[0m eta \u001b[36m0:00:00\u001b[0m\n",
            "\u001b[?25hInstalling collected packages: pytube\n",
            "Successfully installed pytube-15.0.0\n"
          ]
        }
      ],
      "source": [
        "!pip install pytube --upgrade\n",
        "#!pip install --upgrade pytube\n",
        "#!pip install yt-dlp"
      ]
    },
    {
      "cell_type": "markdown",
      "metadata": {
        "id": "axPa5g-VekPR"
      },
      "source": [
        "# Classe Principal:\n",
        "\n",
        "**Atenção**\n",
        "\n",
        "**RODE** a Celula do código para que ele funcione adequadramente! Para isso, aperte o **play** na lateral da célula.\n",
        "\n",
        "\n",
        "\n",
        "```\n",
        "**NOTA**\n",
        "  Essa é a estrutura principal para que o código funcione adequadamente,\n",
        "aqui consta toda a parte computacional que executará o download, caso essa\n",
        "parte não seja executada, o código não funcionará.\n",
        "\n",
        "  Ou seja, rode essa célula, só então parta para o tipo de download que\n",
        "se queira utilizar.\n",
        "```"
      ]
    },
    {
      "cell_type": "code",
      "execution_count": null,
      "metadata": {
        "id": "sZIpQzfzemEB"
      },
      "outputs": [],
      "source": [
        "# Importação:\n",
        "from pytube import YouTube\n",
        "from pytube.exceptions import VideoUnavailable\n",
        "'''\n",
        "  Biblioteca utilizada, pytube.\n",
        "'''\n",
        "\n",
        "class Downloader:\n",
        "    '''\n",
        "    Classe para fazer o download de vídeos do YouTube,\n",
        "    tanto como vídeo quanto como áudio.\n",
        "    '''\n",
        "    def __init__(self, link):\n",
        "        self.link = link\n",
        "\n",
        "    def videoDownload(self):\n",
        "        try:\n",
        "            yt = YouTube(self.link)\n",
        "            video_stream = yt.streams.get_highest_resolution()  # Configurando as definições do objeto em uma variável\n",
        "            video_stream.download()  # Donwload\n",
        "            print('Download de vídeo executado com sucesso')\n",
        "        except VideoUnavailable:\n",
        "            print(f'O vídeo {self.link} não está disponível.')\n",
        "        except Exception as e:\n",
        "            print(f'Ocorreu um erro: {e}')\n",
        "\n",
        "    def audioDownload(self):\n",
        "        try:\n",
        "            yt = YouTube(self.link)\n",
        "            audio_stream = yt.streams.filter(only_audio=True).order_by('abr').desc().first()\n",
        "            audio_stream.download()\n",
        "            print('Download de áudio executado com sucesso')\n",
        "        except VideoUnavailable:\n",
        "            print(f'O vídeo {self.link} não está disponível.')\n",
        "        except Exception as e:\n",
        "            print(f'Ocorreu um erro: {e}')\n"
      ]
    },
    {
      "cell_type": "markdown",
      "metadata": {
        "id": "f3EBBAXyebr0"
      },
      "source": [
        "# Download para celular:\n",
        "1. Primeira opção, download de video\n",
        "2. Segunda opção, download de audio\n",
        "\n",
        "```\n",
        "**Nota**\n",
        "Devido a forma que o chrome funciona no celular, o método de input não funciona\n",
        "de maneira adequada, sendo assim, a solução até o momento, para downloads\n",
        "feitos pelo CELULAR, é inserir a url no código, entre as \"\".\n",
        "\n",
        "Não se preocupe, o código foi projetado para funcionar dessa forma, ou seja,\n",
        "ele funcionará perfeitamento normal nesse caso. 😉\n",
        "```\n",
        "\n"
      ]
    },
    {
      "cell_type": "code",
      "execution_count": null,
      "metadata": {
        "id": "OAkKigKbr0ep"
      },
      "outputs": [],
      "source": [
        "#insira o donwload entre as aspas:\n",
        "url = \"https://www.youtube.com/watch?v=B3NEJTF5gqo\"\n",
        "\n",
        "#Donwload\n",
        "#try:\n",
        "download_video= Donwloader(url).videoDownload()\n",
        "#except:\n",
        "    #print('Ocorreu um problema com o download')"
      ]
    },
    {
      "cell_type": "code",
      "execution_count": null,
      "metadata": {
        "id": "dhx1rqflhJcP"
      },
      "outputs": [],
      "source": [
        "#insira o donwload entre as aspas:\n",
        "url = \"https://www.youtube.com/watch?v=B3NEJTF5gqo\"\n",
        "\n",
        "#Donwload\n",
        "download_audio= Donwloader(url).audioDownload()"
      ]
    },
    {
      "cell_type": "markdown",
      "metadata": {
        "id": "SzHcVT4UegSp"
      },
      "source": [
        "# Download no PC\n",
        "\n",
        "As opções para o caso do PC são feitas pelo método input, ou seja, rode a célula e basta responder as perguntas que é o suficiente para executar o download.\n",
        "\n",
        "```\n",
        "**Atenção**\n",
        "Rode a célula, nesse caso, diferente do anterior, não há a necessidade de mudar\n",
        "nada no código para faze-lo rodar. Se não tem familiaridade com programação,\n",
        "o recomendado é não alterar o código! Ele pode quebrar e você pode não\n",
        "conseguir resolver...\n",
        "\n",
        "OBS:\n",
        "  Não insira aspas na resposta, isso, para esse caso em específico, fará com\n",
        "que o código não funcione adquadamente.\n",
        "```"
      ]
    },
    {
      "cell_type": "code",
      "execution_count": null,
      "metadata": {
        "id": "aEq8a499fJKK"
      },
      "outputs": [],
      "source": [
        "# Escolha:\n",
        "perg = input('Video ou Audio (v/a): ')\n",
        "\n",
        "'''\n",
        "  Existem alguns conteudos do youtube que são protegidos,\n",
        "sendo assim, até o momento não é possivel baixa-los diretamente.\n",
        "O recomendável, caso o conteúdo de algum problema na hora do download\n",
        "é buscar um outro link para baixa-lo. Caso o problema persista,\n",
        "entre em contato.\n",
        "'''\n",
        "\n",
        "# Download:\n",
        "try:\n",
        "    if perg == 'v':\n",
        "        #insira o donwload entre as aspas:\n",
        "        url = input('cole o link:\\n') # Não insira\n",
        "\n",
        "        #Donwload\n",
        "        download_video= Donwloader(url).videoDownload()\n",
        "\n",
        "    elif perg == 'a':\n",
        "        #insira o donwload entre as aspas:\n",
        "        url = input('cole o link:\\n')\n",
        "\n",
        "        #Donwload\n",
        "        download_video= Donwloader(url).audioDownload()\n",
        "\n",
        "    else:\n",
        "        print('Responda \"v\" para vídeo ou \"a\" para audio')\n",
        "except:\n",
        "    print('Provelmene o vídeo é protegido por direitos autorais')"
      ]
    },
    {
      "cell_type": "code",
      "execution_count": null,
      "metadata": {
        "id": "2dbXjif4fQhI"
      },
      "outputs": [],
      "source": [
        "perg = input('Video ou Audio (v/a): ')\n",
        "if perg == 'v':\n",
        "    #insira o donwload entre as aspas:\n",
        "    url = input('cole o link:\\n') # Não insira\n",
        "\n",
        "    #Donwload\n",
        "    download_video= Donwloader(url).videoDownload()\n",
        "\n",
        "elif perg == 'a':\n",
        "    #insira o donwload entre as aspas:\n",
        "    url = input('cole o link:\\n')\n",
        "\n",
        "    #Donwload\n",
        "    download_video= Donwloader(url).audioDownload()\n",
        "\n",
        "else:\n",
        "    print('Responda \"v\" para vídeo ou \"a\" para audio')"
      ]
    }
  ],
  "metadata": {
    "colab": {
      "collapsed_sections": [
        "6wh-rLBd6pXJ"
      ],
      "provenance": [],
      "authorship_tag": "ABX9TyNVvsD0jhknZTfxw08QQWGA",
      "include_colab_link": true
    },
    "kernelspec": {
      "display_name": "Python 3",
      "name": "python3"
    },
    "language_info": {
      "name": "python"
    }
  },
  "nbformat": 4,
  "nbformat_minor": 0
}