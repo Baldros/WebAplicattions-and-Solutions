{
  "cells": [
    {
      "cell_type": "markdown",
      "metadata": {
        "id": "view-in-github",
        "colab_type": "text"
      },
      "source": [
        "<a href=\"https://colab.research.google.com/github/Baldros/WebAplicattions-and-Solutions/blob/main/Download_V%C3%ADdeo_Youtube.ipynb\" target=\"_parent\"><img src=\"https://colab.research.google.com/assets/colab-badge.svg\" alt=\"Open In Colab\"/></a>"
      ]
    },
    {
      "cell_type": "code",
      "execution_count": null,
      "metadata": {
        "colab": {
          "base_uri": "https://localhost:8080/"
        },
        "id": "gV38Q_R3eHiu",
        "outputId": "5ef0ccfe-64db-40bf-ed75-e9b4cf4e2da0"
      },
      "outputs": [
        {
          "name": "stdout",
          "output_type": "stream",
          "text": [
            "Requirement already satisfied: pytube in /usr/local/lib/python3.10/dist-packages (15.0.0)\n"
          ]
        }
      ],
      "source": [
        "!pip install --upgrade pytube"
      ]
    },
    {
      "cell_type": "code",
      "execution_count": null,
      "metadata": {
        "id": "qT2gz0WIeKyy"
      },
      "outputs": [],
      "source": [
        "from pytube import YouTube\n",
        "\n",
        "def baixar_video(url, pasta_destino='.'):\n",
        "    try:\n",
        "        # Cria um objeto YouTube\n",
        "        yt = YouTube(url)\n",
        "\n",
        "        # Seleciona a maior resolução disponível\n",
        "        stream = yt.streams.get_highest_resolution()\n",
        "\n",
        "        # Baixa o vídeo para a pasta de destino\n",
        "        stream.download(output_path=pasta_destino)\n",
        "\n",
        "        print(f'Vídeo \"{yt.title}\" baixado com sucesso!')\n",
        "    except Exception as e:\n",
        "        print(f'Ocorreu um erro: {e}')"
      ]
    },
    {
      "cell_type": "code",
      "execution_count": null,
      "metadata": {
        "colab": {
          "base_uri": "https://localhost:8080/"
        },
        "id": "RSl8KYhpeSYJ",
        "outputId": "e74e9442-73c6-4398-a251-3ab670bf1895"
      },
      "outputs": [
        {
          "name": "stdout",
          "output_type": "stream",
          "text": [
            "Ocorreu um erro: HTTP Error 400: Bad Request\n"
          ]
        }
      ],
      "source": [
        "url = 'https://www.youtube.com/watch?v=B3NEJTF5gqo'\n",
        "baixar_video(url, pasta_destino='./videos')"
      ]
    },
    {
      "cell_type": "code",
      "execution_count": null,
      "metadata": {
        "colab": {
          "base_uri": "https://localhost:8080/"
        },
        "id": "UO8WPTQ7edPx",
        "outputId": "b09ea57f-99c5-4800-df5f-55b1287769e1"
      },
      "outputs": [
        {
          "name": "stdout",
          "output_type": "stream",
          "text": [
            "Collecting yt-dlp\n",
            "  Downloading yt_dlp-2024.8.6-py3-none-any.whl.metadata (170 kB)\n",
            "\u001b[?25l     \u001b[90m━━━━━━━━━━━━━━━━━━━━━━━━━━━━━━━━━━━━━━━━\u001b[0m \u001b[32m0.0/170.1 kB\u001b[0m \u001b[31m?\u001b[0m eta \u001b[36m-:--:--\u001b[0m\r\u001b[2K     \u001b[90m━━━━━━━━━━━━━━━━━━━━━━━━━━━━━━━━━━━━━━━━\u001b[0m \u001b[32m170.1/170.1 kB\u001b[0m \u001b[31m6.0 MB/s\u001b[0m eta \u001b[36m0:00:00\u001b[0m\n",
            "\u001b[?25hCollecting brotli (from yt-dlp)\n",
            "  Downloading Brotli-1.1.0-cp310-cp310-manylinux_2_5_x86_64.manylinux1_x86_64.manylinux_2_12_x86_64.manylinux2010_x86_64.whl.metadata (5.5 kB)\n",
            "Requirement already satisfied: certifi in /usr/local/lib/python3.10/dist-packages (from yt-dlp) (2024.8.30)\n",
            "Collecting mutagen (from yt-dlp)\n",
            "  Downloading mutagen-1.47.0-py3-none-any.whl.metadata (1.7 kB)\n",
            "Collecting pycryptodomex (from yt-dlp)\n",
            "  Downloading pycryptodomex-3.20.0-cp35-abi3-manylinux_2_17_x86_64.manylinux2014_x86_64.whl.metadata (3.4 kB)\n",
            "Requirement already satisfied: requests<3,>=2.32.2 in /usr/local/lib/python3.10/dist-packages (from yt-dlp) (2.32.3)\n",
            "Requirement already satisfied: urllib3<3,>=1.26.17 in /usr/local/lib/python3.10/dist-packages (from yt-dlp) (2.0.7)\n",
            "Collecting websockets>=12.0 (from yt-dlp)\n",
            "  Downloading websockets-13.0.1-cp310-cp310-manylinux_2_5_x86_64.manylinux1_x86_64.manylinux_2_17_x86_64.manylinux2014_x86_64.whl.metadata (6.7 kB)\n",
            "Requirement already satisfied: charset-normalizer<4,>=2 in /usr/local/lib/python3.10/dist-packages (from requests<3,>=2.32.2->yt-dlp) (3.3.2)\n",
            "Requirement already satisfied: idna<4,>=2.5 in /usr/local/lib/python3.10/dist-packages (from requests<3,>=2.32.2->yt-dlp) (3.8)\n",
            "Downloading yt_dlp-2024.8.6-py3-none-any.whl (3.1 MB)\n",
            "\u001b[2K   \u001b[90m━━━━━━━━━━━━━━━━━━━━━━━━━━━━━━━━━━━━━━━━\u001b[0m \u001b[32m3.1/3.1 MB\u001b[0m \u001b[31m61.5 MB/s\u001b[0m eta \u001b[36m0:00:00\u001b[0m\n",
            "\u001b[?25hDownloading websockets-13.0.1-cp310-cp310-manylinux_2_5_x86_64.manylinux1_x86_64.manylinux_2_17_x86_64.manylinux2014_x86_64.whl (157 kB)\n",
            "\u001b[2K   \u001b[90m━━━━━━━━━━━━━━━━━━━━━━━━━━━━━━━━━━━━━━━━\u001b[0m \u001b[32m157.3/157.3 kB\u001b[0m \u001b[31m12.2 MB/s\u001b[0m eta \u001b[36m0:00:00\u001b[0m\n",
            "\u001b[?25hDownloading Brotli-1.1.0-cp310-cp310-manylinux_2_5_x86_64.manylinux1_x86_64.manylinux_2_12_x86_64.manylinux2010_x86_64.whl (3.0 MB)\n",
            "\u001b[2K   \u001b[90m━━━━━━━━━━━━━━━━━━━━━━━━━━━━━━━━━━━━━━━━\u001b[0m \u001b[32m3.0/3.0 MB\u001b[0m \u001b[31m74.9 MB/s\u001b[0m eta \u001b[36m0:00:00\u001b[0m\n",
            "\u001b[?25hDownloading mutagen-1.47.0-py3-none-any.whl (194 kB)\n",
            "\u001b[2K   \u001b[90m━━━━━━━━━━━━━━━━━━━━━━━━━━━━━━━━━━━━━━━━\u001b[0m \u001b[32m194.4/194.4 kB\u001b[0m \u001b[31m15.9 MB/s\u001b[0m eta \u001b[36m0:00:00\u001b[0m\n",
            "\u001b[?25hDownloading pycryptodomex-3.20.0-cp35-abi3-manylinux_2_17_x86_64.manylinux2014_x86_64.whl (2.1 MB)\n",
            "\u001b[2K   \u001b[90m━━━━━━━━━━━━━━━━━━━━━━━━━━━━━━━━━━━━━━━━\u001b[0m \u001b[32m2.1/2.1 MB\u001b[0m \u001b[31m57.3 MB/s\u001b[0m eta \u001b[36m0:00:00\u001b[0m\n",
            "\u001b[?25hInstalling collected packages: brotli, websockets, pycryptodomex, mutagen, yt-dlp\n",
            "Successfully installed brotli-1.1.0 mutagen-1.47.0 pycryptodomex-3.20.0 websockets-13.0.1 yt-dlp-2024.8.6\n"
          ]
        }
      ],
      "source": [
        "pip install yt-dlp\n"
      ]
    },
    {
      "cell_type": "code",
      "execution_count": null,
      "metadata": {
        "id": "YiyxM75QelTA"
      },
      "outputs": [],
      "source": [
        "import yt_dlp\n",
        "\n",
        "def baixar_video_yt_dlp(url, pasta_destino='.'):\n",
        "    try:\n",
        "        ydl_opts = {\n",
        "            'outtmpl': f'{pasta_destino}/%(title)s.%(ext)s',\n",
        "            'format': 'bestvideo+bestaudio/best',\n",
        "        }\n",
        "\n",
        "        with yt_dlp.YoutubeDL(ydl_opts) as ydl:\n",
        "            ydl.download([url])\n",
        "            print(\"Vídeo baixado com sucesso!\")\n",
        "\n",
        "    except Exception as e:\n",
        "        print(f'Ocorreu um erro: {e}')\n",
        "\n"
      ]
    },
    {
      "cell_type": "code",
      "execution_count": null,
      "metadata": {
        "colab": {
          "background_save": true,
          "base_uri": "https://localhost:8080/"
        },
        "id": "rm-zHtraepCn",
        "outputId": "b17f430c-c8b4-433b-b262-11160448754d"
      },
      "outputs": [
        {
          "name": "stdout",
          "output_type": "stream",
          "text": [
            "[youtube] Extracting URL: https://www.youtube.com/watch?v=B3NEJTF5gqo\n",
            "[youtube] B3NEJTF5gqo: Downloading webpage\n",
            "[youtube] B3NEJTF5gqo: Downloading ios player API JSON\n",
            "[youtube] B3NEJTF5gqo: Downloading web creator player API JSON\n",
            "[youtube] B3NEJTF5gqo: Downloading MPD manifest\n",
            "[info] B3NEJTF5gqo: Downloading 1 format(s): 248+140\n",
            "[dashsegments] Total fragments: 2483\n",
            "[download] Destination: ./videos/Ciência de Dados para Concursos - Testes de Hipótese.f248.webm\n",
            "[download] 100% of    1.11GiB in 00:27:24 at 706.53KiB/s                   \n",
            "[dashsegments] Total fragments: 2483\n",
            "[download] Destination: ./videos/Ciência de Dados para Concursos - Testes de Hipótese.f140.m4a\n",
            "[download] 100% of  193.95MiB in 00:21:14 at 155.80KiB/s                   \n",
            "[Merger] Merging formats into \"./videos/Ciência de Dados para Concursos - Testes de Hipótese.mkv\"\n",
            "Deleting original file ./videos/Ciência de Dados para Concursos - Testes de Hipótese.f248.webm (pass -k to keep)\n",
            "Deleting original file ./videos/Ciência de Dados para Concursos - Testes de Hipótese.f140.m4a (pass -k to keep)\n",
            "Vídeo baixado com sucesso!\n"
          ]
        }
      ],
      "source": [
        "# Exemplo de uso\n",
        "baixar_video_yt_dlp(url, pasta_destino='./videos')"
      ]
    },
    {
      "cell_type": "code",
      "execution_count": null,
      "metadata": {
        "id": "yXh-QDZ2ep54"
      },
      "outputs": [],
      "source": []
    }
  ],
  "metadata": {
    "colab": {
      "provenance": [],
      "authorship_tag": "ABX9TyPaLbftd/nqoiuyueiZfslI",
      "include_colab_link": true
    },
    "kernelspec": {
      "display_name": "Python 3",
      "name": "python3"
    },
    "language_info": {
      "name": "python"
    }
  },
  "nbformat": 4,
  "nbformat_minor": 0
}